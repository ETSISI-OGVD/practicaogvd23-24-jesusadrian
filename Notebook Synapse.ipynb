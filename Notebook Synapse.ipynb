{
  "nbformat": 4,
  "nbformat_minor": 2,
  "metadata": {
    "kernelspec": {
      "name": "synapse_pyspark",
      "display_name": "Synapse PySpark"
    },
    "language_info": {
      "name": "python"
    },
    "description": null,
    "save_output": true,
    "synapse_widget": {
      "version": "0.1",
      "state": {
        "4e850dd0-11b1-4143-a565-92e4763aba6e": {
          "type": "Synapse.DataFrame",
          "sync_state": {
            "table": {
              "rows": [
                {
                  "0": "842",
                  "1": "0",
                  "2": "2.2",
                  "3": "0",
                  "4": "1",
                  "5": "0",
                  "6": "7",
                  "7": "0.6",
                  "8": "188",
                  "9": "2",
                  "10": "2",
                  "11": "20",
                  "12": "756",
                  "13": "2549",
                  "14": "9",
                  "15": "7",
                  "16": "19",
                  "17": "0",
                  "18": "0",
                  "19": "1",
                  "20": "1"
                },
                {
                  "0": "1021",
                  "1": "1",
                  "2": "0.5",
                  "3": "1",
                  "4": "0",
                  "5": "1",
                  "6": "53",
                  "7": "0.7",
                  "8": "136",
                  "9": "3",
                  "10": "6",
                  "11": "905",
                  "12": "1988",
                  "13": "2631",
                  "14": "17",
                  "15": "3",
                  "16": "7",
                  "17": "1",
                  "18": "1",
                  "19": "0",
                  "20": "2"
                },
                {
                  "0": "563",
                  "1": "1",
                  "2": "0.5",
                  "3": "1",
                  "4": "2",
                  "5": "1",
                  "6": "41",
                  "7": "0.9",
                  "8": "145",
                  "9": "5",
                  "10": "6",
                  "11": "1263",
                  "12": "1716",
                  "13": "2603",
                  "14": "11",
                  "15": "2",
                  "16": "9",
                  "17": "1",
                  "18": "1",
                  "19": "0",
                  "20": "2"
                },
                {
                  "0": "615",
                  "1": "1",
                  "2": "2.5",
                  "3": "0",
                  "4": "0",
                  "5": "0",
                  "6": "10",
                  "7": "0.8",
                  "8": "131",
                  "9": "6",
                  "10": "9",
                  "11": "1216",
                  "12": "1786",
                  "13": "2769",
                  "14": "16",
                  "15": "8",
                  "16": "11",
                  "17": "1",
                  "18": "0",
                  "19": "0",
                  "20": "2"
                },
                {
                  "0": "1821",
                  "1": "1",
                  "2": "1.2",
                  "3": "0",
                  "4": "13",
                  "5": "1",
                  "6": "44",
                  "7": "0.6",
                  "8": "141",
                  "9": "2",
                  "10": "14",
                  "11": "1208",
                  "12": "1212",
                  "13": "1411",
                  "14": "8",
                  "15": "2",
                  "16": "15",
                  "17": "1",
                  "18": "1",
                  "19": "0",
                  "20": "1"
                },
                {
                  "0": "1859",
                  "1": "0",
                  "2": "0.5",
                  "3": "1",
                  "4": "3",
                  "5": "0",
                  "6": "22",
                  "7": "0.7",
                  "8": "164",
                  "9": "1",
                  "10": "7",
                  "11": "1004",
                  "12": "1654",
                  "13": "1067",
                  "14": "17",
                  "15": "1",
                  "16": "10",
                  "17": "1",
                  "18": "0",
                  "19": "0",
                  "20": "1"
                },
                {
                  "0": "1821",
                  "1": "0",
                  "2": "1.7",
                  "3": "0",
                  "4": "4",
                  "5": "1",
                  "6": "10",
                  "7": "0.8",
                  "8": "139",
                  "9": "8",
                  "10": "10",
                  "11": "381",
                  "12": "1018",
                  "13": "3220",
                  "14": "13",
                  "15": "8",
                  "16": "18",
                  "17": "1",
                  "18": "0",
                  "19": "1",
                  "20": "3"
                },
                {
                  "0": "1954",
                  "1": "0",
                  "2": "0.5",
                  "3": "1",
                  "4": "0",
                  "5": "0",
                  "6": "24",
                  "7": "0.8",
                  "8": "187",
                  "9": "4",
                  "10": "0",
                  "11": "512",
                  "12": "1149",
                  "13": "700",
                  "14": "16",
                  "15": "3",
                  "16": "5",
                  "17": "1",
                  "18": "1",
                  "19": "1",
                  "20": "0"
                },
                {
                  "0": "1445",
                  "1": "1",
                  "2": "0.5",
                  "3": "0",
                  "4": "0",
                  "5": "0",
                  "6": "53",
                  "7": "0.7",
                  "8": "174",
                  "9": "7",
                  "10": "14",
                  "11": "386",
                  "12": "836",
                  "13": "1099",
                  "14": "17",
                  "15": "1",
                  "16": "20",
                  "17": "1",
                  "18": "0",
                  "19": "0",
                  "20": "0"
                },
                {
                  "0": "509",
                  "1": "1",
                  "2": "0.6",
                  "3": "1",
                  "4": "2",
                  "5": "1",
                  "6": "9",
                  "7": "0.1",
                  "8": "93",
                  "9": "5",
                  "10": "15",
                  "11": "1137",
                  "12": "1224",
                  "13": "513",
                  "14": "19",
                  "15": "10",
                  "16": "12",
                  "17": "1",
                  "18": "0",
                  "19": "0",
                  "20": "0"
                }
              ],
              "schema": [
                {
                  "key": "0",
                  "name": "battery_power",
                  "type": "string"
                },
                {
                  "key": "1",
                  "name": "blue",
                  "type": "string"
                },
                {
                  "key": "2",
                  "name": "clock_speed",
                  "type": "string"
                },
                {
                  "key": "3",
                  "name": "dual_sim",
                  "type": "string"
                },
                {
                  "key": "4",
                  "name": "fc",
                  "type": "string"
                },
                {
                  "key": "5",
                  "name": "four_g",
                  "type": "string"
                },
                {
                  "key": "6",
                  "name": "int_memory",
                  "type": "string"
                },
                {
                  "key": "7",
                  "name": "m_dep",
                  "type": "string"
                },
                {
                  "key": "8",
                  "name": "mobile_wt",
                  "type": "string"
                },
                {
                  "key": "9",
                  "name": "n_cores",
                  "type": "string"
                },
                {
                  "key": "10",
                  "name": "pc",
                  "type": "string"
                },
                {
                  "key": "11",
                  "name": "px_height",
                  "type": "string"
                },
                {
                  "key": "12",
                  "name": "px_width",
                  "type": "string"
                },
                {
                  "key": "13",
                  "name": "ram",
                  "type": "string"
                },
                {
                  "key": "14",
                  "name": "sc_h",
                  "type": "string"
                },
                {
                  "key": "15",
                  "name": "sc_w",
                  "type": "string"
                },
                {
                  "key": "16",
                  "name": "talk_time",
                  "type": "string"
                },
                {
                  "key": "17",
                  "name": "three_g",
                  "type": "string"
                },
                {
                  "key": "18",
                  "name": "touch_screen",
                  "type": "string"
                },
                {
                  "key": "19",
                  "name": "wifi",
                  "type": "string"
                },
                {
                  "key": "20",
                  "name": "price_range",
                  "type": "string"
                }
              ],
              "truncated": false
            },
            "isSummary": false,
            "language": "scala"
          },
          "persist_state": {
            "view": {
              "type": "details",
              "tableOptions": {},
              "chartOptions": {
                "chartType": "bar",
                "aggregationType": "count",
                "categoryFieldKeys": [
                  "0"
                ],
                "seriesFieldKeys": [
                  "0"
                ],
                "isStacked": false
              }
            }
          }
        }
      }
    }
  },
  "cells": [
    {
      "cell_type": "code",
      "execution_count": 8,
      "outputs": [
        {
          "output_type": "display_data",
          "data": {
            "application/vnd.livy.statement-meta+json": {
              "spark_pool": "practicaApache",
              "session_id": "11",
              "statement_id": 8,
              "state": "finished",
              "livy_statement_state": "available",
              "queued_time": "2024-03-17T16:46:11.7029202Z",
              "session_start_time": null,
              "execution_start_time": "2024-03-17T16:46:11.8268064Z",
              "execution_finish_time": "2024-03-17T16:46:15.6902941Z",
              "spark_jobs": null,
              "parent_msg_id": "bd09968f-7d33-4dc6-9f65-a62e54f79edd"
            },
            "text/plain": "StatementMeta(practicaApache, 11, 8, Finished, Available)"
          },
          "metadata": {}
        },
        {
          "output_type": "display_data",
          "data": {
            "application/vnd.synapse.widget-view+json": {
              "widget_id": "4e850dd0-11b1-4143-a565-92e4763aba6e",
              "widget_type": "Synapse.DataFrame"
            },
            "text/plain": "SynapseWidget(Synapse.DataFrame, 4e850dd0-11b1-4143-a565-92e4763aba6e)"
          },
          "metadata": {}
        }
      ],
      "metadata": {
        "microsoft": {
          "language": "python"
        },
        "collapsed": false
      },
      "source": [
        "%%pyspark\r\n",
        "df = spark.read.csv('abfss://practica-azure-filesys@practicaazureaccount.dfs.core.windows.net/phone_prices.csv', header=True)\r\n",
        "display(df.limit(10))"
      ]
    },
    {
      "cell_type": "code",
      "execution_count": 9,
      "outputs": [
        {
          "output_type": "display_data",
          "data": {
            "application/vnd.livy.statement-meta+json": {
              "spark_pool": "practicaApache",
              "session_id": "11",
              "statement_id": 9,
              "state": "finished",
              "livy_statement_state": "available",
              "queued_time": "2024-03-17T16:46:19.5572885Z",
              "session_start_time": null,
              "execution_start_time": "2024-03-17T16:46:19.6697629Z",
              "execution_finish_time": "2024-03-17T16:46:28.2069531Z",
              "spark_jobs": null,
              "parent_msg_id": "36f08641-d3ab-495f-aaa7-3a632910d13a"
            },
            "text/plain": "StatementMeta(practicaApache, 11, 9, Finished, Available)"
          },
          "metadata": {}
        }
      ],
      "metadata": {
        "jupyter": {
          "source_hidden": false,
          "outputs_hidden": false
        },
        "nteract": {
          "transient": {
            "deleting": false
          }
        },
        "microsoft": {
          "language": "python"
        }
      },
      "source": [
        "%%pyspark\r\n",
        "spark.sql(\"CREATE DATABASE IF NOT EXISTS phone_db\")\r\n",
        "df.write.mode(\"overwrite\").saveAsTable(\"phone_db.phone\")"
      ]
    },
    {
      "cell_type": "code",
      "execution_count": 15,
      "outputs": [
        {
          "output_type": "display_data",
          "data": {
            "application/vnd.livy.statement-meta+json": {
              "spark_pool": "practicaApache",
              "session_id": "11",
              "statement_id": 15,
              "state": "finished",
              "livy_statement_state": "available",
              "queued_time": "2024-03-17T16:47:53.7225628Z",
              "session_start_time": null,
              "execution_start_time": "2024-03-17T16:47:53.8510402Z",
              "execution_finish_time": "2024-03-17T16:47:57.7346722Z",
              "spark_jobs": null,
              "parent_msg_id": "1994fcaf-8fce-4c5b-8d9c-4ff07231d5fd"
            },
            "text/plain": "StatementMeta(practicaApache, 11, 15, Finished, Available)"
          },
          "metadata": {}
        },
        {
          "output_type": "execute_result",
          "data": {
            "application/vnd.synapse.sparksql-result+json": {
              "schema": {
                "type": "struct",
                "fields": [
                  {
                    "name": "min_battery_power",
                    "type": "string",
                    "nullable": true,
                    "metadata": {}
                  },
                  {
                    "name": "max_battery_power",
                    "type": "string",
                    "nullable": true,
                    "metadata": {}
                  },
                  {
                    "name": "min_clock_speed",
                    "type": "string",
                    "nullable": true,
                    "metadata": {}
                  },
                  {
                    "name": "max_clock_speed",
                    "type": "string",
                    "nullable": true,
                    "metadata": {}
                  },
                  {
                    "name": "min_fc",
                    "type": "string",
                    "nullable": true,
                    "metadata": {}
                  },
                  {
                    "name": "max_fc",
                    "type": "string",
                    "nullable": true,
                    "metadata": {}
                  },
                  {
                    "name": "min_int_memory",
                    "type": "string",
                    "nullable": true,
                    "metadata": {}
                  },
                  {
                    "name": "max_int_memory",
                    "type": "string",
                    "nullable": true,
                    "metadata": {}
                  },
                  {
                    "name": "min_m_dep",
                    "type": "string",
                    "nullable": true,
                    "metadata": {}
                  },
                  {
                    "name": "max_m_dep",
                    "type": "string",
                    "nullable": true,
                    "metadata": {}
                  },
                  {
                    "name": "min_mobile_wt",
                    "type": "string",
                    "nullable": true,
                    "metadata": {}
                  },
                  {
                    "name": "max_mobile_wt",
                    "type": "string",
                    "nullable": true,
                    "metadata": {}
                  },
                  {
                    "name": "min_n_cores",
                    "type": "string",
                    "nullable": true,
                    "metadata": {}
                  },
                  {
                    "name": "max_n_cores",
                    "type": "string",
                    "nullable": true,
                    "metadata": {}
                  },
                  {
                    "name": "min_pc",
                    "type": "string",
                    "nullable": true,
                    "metadata": {}
                  },
                  {
                    "name": "max_pc",
                    "type": "string",
                    "nullable": true,
                    "metadata": {}
                  },
                  {
                    "name": "min_px_height",
                    "type": "string",
                    "nullable": true,
                    "metadata": {}
                  },
                  {
                    "name": "max_px_height",
                    "type": "string",
                    "nullable": true,
                    "metadata": {}
                  },
                  {
                    "name": "min_px_width",
                    "type": "string",
                    "nullable": true,
                    "metadata": {}
                  },
                  {
                    "name": "max_px_width",
                    "type": "string",
                    "nullable": true,
                    "metadata": {}
                  },
                  {
                    "name": "min_ram",
                    "type": "string",
                    "nullable": true,
                    "metadata": {}
                  },
                  {
                    "name": "max_ram",
                    "type": "string",
                    "nullable": true,
                    "metadata": {}
                  },
                  {
                    "name": "min_sc_h",
                    "type": "string",
                    "nullable": true,
                    "metadata": {}
                  },
                  {
                    "name": "max_sc_h",
                    "type": "string",
                    "nullable": true,
                    "metadata": {}
                  },
                  {
                    "name": "min_sc_w",
                    "type": "string",
                    "nullable": true,
                    "metadata": {}
                  },
                  {
                    "name": "max_sc_w",
                    "type": "string",
                    "nullable": true,
                    "metadata": {}
                  },
                  {
                    "name": "min_talk_time",
                    "type": "string",
                    "nullable": true,
                    "metadata": {}
                  },
                  {
                    "name": "max_talk_time",
                    "type": "string",
                    "nullable": true,
                    "metadata": {}
                  }
                ]
              },
              "data": [
                [
                  "1000",
                  "999",
                  "0.5",
                  "3.0",
                  "0",
                  "9",
                  "10",
                  "9",
                  "0.1",
                  "1.0",
                  "100",
                  "99",
                  "1",
                  "8",
                  "0",
                  "9",
                  "0",
                  "997",
                  "1000",
                  "999",
                  "1005",
                  "999",
                  "10",
                  "9",
                  "0",
                  "9",
                  "10",
                  "9"
                ]
              ]
            },
            "text/plain": "<Spark SQL result set with 1 rows and 28 fields>"
          },
          "execution_count": 15,
          "metadata": {}
        }
      ],
      "metadata": {
        "jupyter": {
          "source_hidden": false,
          "outputs_hidden": false
        },
        "nteract": {
          "transient": {
            "deleting": false
          }
        },
        "microsoft": {
          "language": "sparksql"
        },
        "collapsed": false
      },
      "source": [
        "%%sql\r\n",
        "SELECT\r\n",
        "    MIN(battery_power) AS min_battery_power,\r\n",
        "    MAX(battery_power) AS max_battery_power,\r\n",
        "    MIN(clock_speed) AS min_clock_speed,\r\n",
        "    MAX(clock_speed) AS max_clock_speed,\r\n",
        "    MIN(fc) AS min_fc,\r\n",
        "    MAX(fc) AS max_fc,\r\n",
        "    MIN(int_memory) AS min_int_memory,\r\n",
        "    MAX(int_memory) AS max_int_memory,\r\n",
        "    MIN(m_dep) AS min_m_dep,\r\n",
        "    MAX(m_dep) AS max_m_dep,\r\n",
        "    MIN(mobile_wt) AS min_mobile_wt,\r\n",
        "    MAX(mobile_wt) AS max_mobile_wt,\r\n",
        "    MIN(n_cores) AS min_n_cores,\r\n",
        "    MAX(n_cores) AS max_n_cores,\r\n",
        "    MIN(pc) AS min_pc,\r\n",
        "    MAX(pc) AS max_pc,\r\n",
        "    MIN(px_height) AS min_px_height,\r\n",
        "    MAX(px_height) AS max_px_height,\r\n",
        "    MIN(px_width) AS min_px_width,\r\n",
        "    MAX(px_width) AS max_px_width,\r\n",
        "    MIN(ram) AS min_ram,\r\n",
        "    MAX(ram) AS max_ram,\r\n",
        "    MIN(sc_h) AS min_sc_h,\r\n",
        "    MAX(sc_h) AS max_sc_h,\r\n",
        "    MIN(sc_w) AS min_sc_w,\r\n",
        "    MAX(sc_w) AS max_sc_w,\r\n",
        "    MIN(talk_time) AS min_talk_time,\r\n",
        "    MAX(talk_time) AS max_talk_time\r\n",
        "FROM phone_db.phone;"
      ]
    },
    {
      "cell_type": "code",
      "execution_count": 18,
      "outputs": [
        {
          "output_type": "display_data",
          "data": {
            "application/vnd.livy.statement-meta+json": {
              "spark_pool": "practicaApache",
              "session_id": "11",
              "statement_id": 18,
              "state": "finished",
              "livy_statement_state": "available",
              "queued_time": "2024-03-17T16:49:07.6838664Z",
              "session_start_time": null,
              "execution_start_time": "2024-03-17T16:49:07.8052581Z",
              "execution_finish_time": "2024-03-17T16:49:09.6157033Z",
              "spark_jobs": null,
              "parent_msg_id": "0f4a71c9-3e89-4f13-807a-4c02ac47a978"
            },
            "text/plain": "StatementMeta(practicaApache, 11, 18, Finished, Available)"
          },
          "metadata": {}
        },
        {
          "output_type": "execute_result",
          "data": {
            "application/vnd.synapse.sparksql-result+json": {
              "schema": {
                "type": "struct",
                "fields": [
                  {
                    "name": "price_range",
                    "type": "string",
                    "nullable": true,
                    "metadata": {}
                  },
                  {
                    "name": "avg_ram",
                    "type": "double",
                    "nullable": true,
                    "metadata": {}
                  },
                  {
                    "name": "min_ram",
                    "type": "string",
                    "nullable": true,
                    "metadata": {}
                  },
                  {
                    "name": "max_ram",
                    "type": "string",
                    "nullable": true,
                    "metadata": {}
                  }
                ]
              },
              "data": [
                [
                  "0",
                  785.314,
                  "1005",
                  "999"
                ],
                [
                  "1",
                  1679.49,
                  "1017",
                  "990"
                ],
                [
                  "2",
                  2582.816,
                  "1185",
                  "3916"
                ],
                [
                  "3",
                  3449.232,
                  "2259",
                  "3998"
                ]
              ]
            },
            "text/plain": "<Spark SQL result set with 4 rows and 4 fields>"
          },
          "execution_count": 18,
          "metadata": {}
        }
      ],
      "metadata": {
        "jupyter": {
          "source_hidden": false,
          "outputs_hidden": false
        },
        "nteract": {
          "transient": {
            "deleting": false
          }
        },
        "microsoft": {
          "language": "sparksql"
        },
        "collapsed": false
      },
      "source": [
        "%%sql\r\n",
        "-- RAM para cada price_range\r\n",
        "SELECT\r\n",
        "    price_range,\r\n",
        "    AVG(ram) AS avg_ram,\r\n",
        "    MIN(ram) AS min_ram,\r\n",
        "    MAX(ram) AS max_ram\r\n",
        "FROM phone_db.phone\r\n",
        "GROUP BY price_range;"
      ]
    },
    {
      "cell_type": "code",
      "execution_count": 22,
      "outputs": [
        {
          "output_type": "display_data",
          "data": {
            "application/vnd.livy.statement-meta+json": {
              "spark_pool": "practicaApache",
              "session_id": "11",
              "statement_id": 22,
              "state": "finished",
              "livy_statement_state": "available",
              "queued_time": "2024-03-17T16:49:46.5021861Z",
              "session_start_time": null,
              "execution_start_time": "2024-03-17T16:49:46.6295421Z",
              "execution_finish_time": "2024-03-17T16:49:48.4345743Z",
              "spark_jobs": null,
              "parent_msg_id": "f12f11d3-1c64-408b-b26c-f430917d6b71"
            },
            "text/plain": "StatementMeta(practicaApache, 11, 22, Finished, Available)"
          },
          "metadata": {}
        },
        {
          "output_type": "execute_result",
          "data": {
            "application/vnd.synapse.sparksql-result+json": {
              "schema": {
                "type": "struct",
                "fields": [
                  {
                    "name": "four_g",
                    "type": "string",
                    "nullable": true,
                    "metadata": {}
                  },
                  {
                    "name": "total_count",
                    "type": "long",
                    "nullable": false,
                    "metadata": {}
                  }
                ]
              },
              "data": [
                [
                  "0",
                  "957"
                ],
                [
                  "1",
                  "1043"
                ]
              ]
            },
            "text/plain": "<Spark SQL result set with 2 rows and 2 fields>"
          },
          "execution_count": 22,
          "metadata": {}
        }
      ],
      "metadata": {
        "jupyter": {
          "source_hidden": false,
          "outputs_hidden": false
        },
        "nteract": {
          "transient": {
            "deleting": false
          }
        },
        "microsoft": {
          "language": "sparksql"
        },
        "collapsed": false
      },
      "source": [
        "\r\n",
        "%%sql\r\n",
        "-- Telefonos con y sin 4G\r\n",
        "SELECT\r\n",
        "    four_g,\r\n",
        "    COUNT(*) AS total_count\r\n",
        "FROM phone_db.phone\r\n",
        "GROUP BY four_g;"
      ]
    }
  ]
}